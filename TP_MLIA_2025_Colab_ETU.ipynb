{
  "cells": [
    {
      "cell_type": "markdown",
      "metadata": {
        "id": "CNLvEQbhnAfQ"
      },
      "source": [
        "### Notebook TP API DataFrame de Spark en Python - MLIA\n"
      ]
    },
    {
      "cell_type": "markdown",
      "metadata": {
        "id": "dyCVqQlunV8W"
      },
      "source": [
        "Le but du TP est d'utiliser l'API Dataframe de Spark en Python.\n",
        "Pour la documentation à consulter, suivre ce li:\n",
        "* https://spark.apache.org/docs/latest/sql-programming-guide.html\n",
        "\n",
        "* Consulter également les fichiers contenus dans le répertoire **Python Spark Cheat Sheets** sur Moodle"
      ]
    },
    {
      "cell_type": "markdown",
      "metadata": {
        "id": "QB62Es6hnpiS"
      },
      "source": [
        "## Rappel de quelques fonctions"
      ]
    },
    {
      "cell_type": "markdown",
      "metadata": {
        "id": "5XVwIYt9nqYY"
      },
      "source": [
        "|Expression |Action|\n",
        "|:-------------:|:-------------:|\n",
        "|val ds = spark.read.format(\"csv\").option(\"header\", \"true\").option(\"inferSchema\", \"true\").load(\"/path/file.csv\") |loads the content of file.csv into a dataset ds by indicting that it contains a header  and by requesting  Spark to infer the schema |\n",
        "|ds.printSchema | show the schema of ds |\n",
        "|ds.show(truncate=false)|shows the first 20 rows without truncating the values |\n",
        "|ds.describe().show()|collects and shows descriptive statistics (mean, max, count, ..) of numeric values|\n",
        "|ds.select(\"c1\", \"c2\", ..., \"cn\")|projects ds on the columns c1, …, cn|\n",
        "|ds.withColumnRenamed(\"c1\",\"c2\")|renames the column c1 with c2|\n",
        "|ds.where(cond)|selects the rows respecting cond|\n",
        "|ds.groupBy(\"c1\").agg(collect_list($\"c2\") as \"values\")|groups the rows by column c1 and creates an new column of values associated to those of c1|\n",
        "|ds.groupBy(\"c1\").agg(avg(\"c2\"))|computes the sum of c2 for each c1 |\n",
        "|ds.withColumn(\"new\", Exp)|creates a new column whose values are computed by Exp|\n",
        "|ds1.crossJoin(ds2)|computes the cross product of ds1 and ds2|\n",
        "|ds1.join(ds2, \"c\") |joins ds1 and ds2 on the column c|\n",
        "|ds1.join(ds2, Seq(\"c1\",...,\"cn\")) |generalizes the previous one to a sequence of columns c1,…, cn|"
      ]
    },
    {
      "cell_type": "markdown",
      "metadata": {
        "id": "UMeKjDd0oCYf"
      },
      "source": [
        "## Préparation\n",
        "\n",
        "*   ***Vérifier que des ressources*** de calcul sont allouées à votre notebook est\n",
        "connecté (cf RAM de disque indiqués en haut à droite) . Sinon cliquer sur le bouton connecter pour obtenir des ressources.\n",
        "\n",
        "*   ***Créer le répertoire*** pour stocker les fichiers nécessaires sur votre google\n",
        "drive (donnez l'autorisation au notebook d'accéder à votre drive lorsque c'est demandé). *Ajuster le nom de votre dossier* : **MyDrive/mlia/TP**"
      ]
    },
    {
      "cell_type": "code",
      "source": [
        "!pwd"
      ],
      "metadata": {
        "id": "_gQn7OKqos0H",
        "colab": {
          "base_uri": "https://localhost:8080/"
        },
        "outputId": "cacdd989-bfa9-4d0b-e1e8-6626999bdc0d"
      },
      "execution_count": 197,
      "outputs": [
        {
          "output_type": "stream",
          "name": "stdout",
          "text": [
            "/content\n"
          ]
        }
      ]
    },
    {
      "cell_type": "code",
      "execution_count": 198,
      "metadata": {
        "id": "u4AD2gAzon4t",
        "colab": {
          "base_uri": "https://localhost:8080/"
        },
        "outputId": "ea565bd2-eca7-43b7-8b48-acc91fcc7a1b"
      },
      "outputs": [
        {
          "output_type": "stream",
          "name": "stdout",
          "text": [
            "Mounted at /content/drive\n"
          ]
        },
        {
          "output_type": "execute_result",
          "data": {
            "text/plain": [
              "['notesAMJ.csv', 'movies.csv', 'ratings.csv', 'films.json']"
            ]
          },
          "metadata": {},
          "execution_count": 198
        }
      ],
      "source": [
        "import os\n",
        "from google.colab import drive\n",
        "drive.mount(\"/content/drive\", force_remount=True)\n",
        "\n",
        "drive_dir = \"/content/drive/MyDrive/ColabNotebooks/\"\n",
        "os.makedirs(drive_dir, exist_ok=True)\n",
        "os.listdir(drive_dir)"
      ]
    },
    {
      "cell_type": "markdown",
      "source": [
        "**Ajouter les fichiers films.json, notesAMJ.csv, ratings.csv et movies.csv dans Google Drive (/content/drive/MyDrive/mlia/TP)**"
      ],
      "metadata": {
        "id": "ZUyFPDxIFNwZ"
      }
    },
    {
      "cell_type": "markdown",
      "metadata": {
        "id": "Ae_B1zwQo7I5"
      },
      "source": [
        "***Installer pyspark et findspark :***"
      ]
    },
    {
      "cell_type": "code",
      "execution_count": 199,
      "metadata": {
        "id": "IC5tPyk4o7u1"
      },
      "outputs": [],
      "source": [
        "!pip install -q pyspark\n",
        "!pip install -q findspark"
      ]
    },
    {
      "cell_type": "markdown",
      "metadata": {
        "id": "DXNYQGxgpCmX"
      },
      "source": [
        "***Démarrer la session spark:***"
      ]
    },
    {
      "cell_type": "code",
      "execution_count": 200,
      "metadata": {
        "id": "vZZ5Kb0XpDNj",
        "colab": {
          "base_uri": "https://localhost:8080/"
        },
        "outputId": "db4ac633-a2a9-4ed5-e0af-93de34e79c89"
      },
      "outputs": [
        {
          "output_type": "stream",
          "name": "stdout",
          "text": [
            "/usr/local/lib/python3.11/dist-packages/pyspark\n",
            "/usr/local/lib/python3.11/dist-packages/pyspark/bin/pyspark\n",
            "/usr/local/lib/python3.11/dist-packages/pyspark/python/pyspark\n",
            "/usr/local/lib/python3.11/dist-packages/ibis/backends/pyspark\n",
            "/usr/local/lib/python3.11/dist-packages/ibis/backends/tests/snapshots/test_generic/test_many_subqueries/pyspark\n",
            "/usr/local/lib/python3.11/dist-packages/ibis/backends/tests/snapshots/test_sql/test_group_by_has_index/pyspark\n",
            "/usr/local/lib/python3.11/dist-packages/ibis/backends/tests/snapshots/test_sql/test_union_aliasing/pyspark\n",
            "/usr/local/lib/python3.11/dist-packages/ibis/backends/tests/snapshots/test_sql/test_isin_bug/pyspark\n",
            "/usr/local/lib/python3.11/dist-packages/ibis/backends/tests/snapshots/test_sql/test_cte_refs_in_topo_order/pyspark\n",
            "/usr/local/lib/python3.11/dist-packages/ibis/backends/tests/snapshots/test_sql/test_to_sql_default_backend/pyspark\n",
            "/usr/local/lib/python3.11/dist-packages/ibis/backends/tests/snapshots/test_sql/test_rewrite_context/pyspark\n",
            "/usr/local/lib/python3.11/dist-packages/ibis/backends/tests/snapshots/test_sql/test_mixed_qualified_and_unqualified_predicates/pyspark\n",
            "/usr/local/bin/pyspark\n"
          ]
        }
      ],
      "source": [
        "import os\n",
        "!find /usr/local -name \"pyspark\"\n",
        "os.environ[\"SPARK_HOME\"] = \"/usr/local/lib/python3.11/dist-packages/pyspark\"\n",
        "os.environ[\"JAVA_HOME\"] = \"/usr\""
      ]
    },
    {
      "cell_type": "code",
      "execution_count": 201,
      "metadata": {
        "id": "pDYo99KQpKjl",
        "colab": {
          "base_uri": "https://localhost:8080/"
        },
        "outputId": "f126a7f8-67c0-42d5-c01d-4c03535d26c8"
      },
      "outputs": [
        {
          "output_type": "stream",
          "name": "stdout",
          "text": [
            "session démarrée, son id est  local-1747252993025\n"
          ]
        }
      ],
      "source": [
        "# Principaux import\n",
        "import findspark\n",
        "from pyspark.sql import SparkSession\n",
        "from pyspark import SparkConf\n",
        "\n",
        "# pour les dataframe et udf\n",
        "from pyspark.sql import *\n",
        "from pyspark.sql.functions import *\n",
        "from pyspark.sql.types import *\n",
        "from datetime import *\n",
        "\n",
        "\n",
        "# initialise les variables d'environnement pour spark\n",
        "findspark.init()\n",
        "\n",
        "# Démarrage session spark\n",
        "# --------------------------\n",
        "def demarrer_spark():\n",
        "  local = \"local[*]\"\n",
        "  appName = \"TP\"\n",
        "  configLocale = SparkConf().setAppName(appName).setMaster(local).\\\n",
        "  set(\"spark.executor.memory\", \"6G\").\\\n",
        "  set(\"spark.driver.memory\",\"6G\").\\\n",
        "  set(\"spark.sql.catalogImplementation\",\"in-memory\")\n",
        "\n",
        "  spark = SparkSession.builder.config(conf = configLocale).getOrCreate()\n",
        "  sc = spark.sparkContext\n",
        "  sc.setLogLevel(\"ERROR\")\n",
        "\n",
        "  spark.conf.set(\"spark.sql.autoBroadcastJoinThreshold\",\"-1\")\n",
        "\n",
        "  # On ajuste l'environnement d'exécution des requêtes à la taille du cluster (4 coeurs)\n",
        "  spark.conf.set(\"spark.sql.shuffle.partitions\",\"4\")\n",
        "  print(\"session démarrée, son id est \", sc.applicationId)\n",
        "  return spark\n",
        "spark = demarrer_spark()"
      ]
    },
    {
      "cell_type": "markdown",
      "metadata": {
        "id": "CN8TjTZ2nAfW"
      },
      "source": [
        "## Lire un fichier et le transformer en DataFrame\n",
        "  - lire le fichier films.json\n",
        "  - afficher le schéma\n",
        "  - afficher les colonnes (attributs)\n",
        "  - afficher le contenu (3 films)\n",
        "  - afficher le nombre de films\n",
        "  - décrire la colonne nF (fonction describe())\n",
        "  - afficher des statistiques sur la table films (fonction summary)"
      ]
    },
    {
      "cell_type": "code",
      "execution_count": 202,
      "metadata": {
        "id": "47sVXC_74in5"
      },
      "outputs": [],
      "source": [
        "#Le dossier contenant les fichiers csv importés:\n",
        "DATASET_DIR=\"/content/drive/MyDrive/mlia/TP\""
      ]
    },
    {
      "cell_type": "markdown",
      "metadata": {
        "id": "l8E96oHT2pxH"
      },
      "source": [
        "## Lire le fichier films.json et créer le DataFrame films"
      ]
    },
    {
      "cell_type": "code",
      "execution_count": 203,
      "metadata": {
        "id": "GG88wAzpnAfY",
        "colab": {
          "base_uri": "https://localhost:8080/"
        },
        "outputId": "80846247-7093-46f1-edd0-f4aacb2a3e15"
      },
      "outputs": [
        {
          "output_type": "stream",
          "name": "stdout",
          "text": [
            "Lecture du fichier:  /content/drive/MyDrive/mlia/TP/films.json\n"
          ]
        }
      ],
      "source": [
        "#Lire le fichier films.json et création d'un Dataframe films (fonction spark.read.json)\n",
        "#==============\n",
        "# Données\n",
        "#==============\n",
        "print(\"Lecture du fichier: \", DATASET_DIR+\"/films.json\")\n",
        "films = spark.read.json(DATASET_DIR+\"/films.json\")"
      ]
    },
    {
      "cell_type": "code",
      "execution_count": 204,
      "metadata": {
        "id": "rnHX1GRlnAfZ",
        "colab": {
          "base_uri": "https://localhost:8080/"
        },
        "outputId": "0f42d377-07c8-40dd-ebbc-ac00f7621983"
      },
      "outputs": [
        {
          "output_type": "stream",
          "name": "stdout",
          "text": [
            "root\n",
            " |-- g: array (nullable = true)\n",
            " |    |-- element: string (containsNull = true)\n",
            " |-- nF: long (nullable = true)\n",
            " |-- titre: string (nullable = true)\n",
            "\n"
          ]
        }
      ],
      "source": [
        "#Afficher le schéma obtenu\n",
        "films.printSchema()\n",
        "#résultat:\n",
        "#root\n",
        "# |-- g: array (nullable = true)\n",
        "# |    |-- element: string (containsNull = true)\n",
        "# |-- nF: long (nullable = true)\n",
        "# |-- titre: string (nullable = true)"
      ]
    },
    {
      "cell_type": "code",
      "execution_count": 205,
      "metadata": {
        "id": "T-b3IEccnAfZ",
        "colab": {
          "base_uri": "https://localhost:8080/"
        },
        "outputId": "d4b90db9-d43d-4368-d756-cc54c3e34a29"
      },
      "outputs": [
        {
          "output_type": "execute_result",
          "data": {
            "text/plain": [
              "[('g', 'array<string>'), ('nF', 'bigint'), ('titre', 'string')]"
            ]
          },
          "metadata": {},
          "execution_count": 205
        }
      ],
      "source": [
        "#Afficher les noms des colonnes\n",
        "films.dtypes\n",
        "\n",
        "#résultat:\n",
        "#['g', 'nF', 'titre']"
      ]
    },
    {
      "cell_type": "code",
      "execution_count": 206,
      "metadata": {
        "id": "VFmpjrCGnAfZ",
        "colab": {
          "base_uri": "https://localhost:8080/"
        },
        "outputId": "7cf2bb18-a1b6-44dc-9ccc-ef54bcb0d748"
      },
      "outputs": [
        {
          "output_type": "stream",
          "name": "stdout",
          "text": [
            "+--------------------+------+--------------------+\n",
            "|                   g|    nF|               titre|\n",
            "+--------------------+------+--------------------+\n",
            "|             [Drama]|  8754|Prime of Miss Jea...|\n",
            "|          [Thriller]|111486|Lesson of the Evi...|\n",
            "|[Animation, Child...|  1033|Fox and the Hound...|\n",
            "+--------------------+------+--------------------+\n",
            "only showing top 3 rows\n",
            "\n"
          ]
        }
      ],
      "source": [
        "#Afficher 3 lignes de la structure films (fonction show)\n",
        "films.show(3)"
      ]
    },
    {
      "cell_type": "markdown",
      "source": [
        "Résultat:\n",
        "\n",
        "```\n",
        "+--------------------+------+--------------------+\n",
        "|                   g|    nF|               titre|\n",
        "+--------------------+------+--------------------+\n",
        "|             [Drama]|  8754|Prime of Miss Jea...|\n",
        "|          [Thriller]|111486|Lesson of the Evi...|\n",
        "|[Animation, Child...|  1033|Fox and the Hound...|\n",
        "+--------------------+------+--------------------+\n",
        "```"
      ],
      "metadata": {
        "id": "o4vSfRrwknFb"
      }
    },
    {
      "cell_type": "code",
      "execution_count": 207,
      "metadata": {
        "id": "ZJ0KqHfPnAfa",
        "colab": {
          "base_uri": "https://localhost:8080/"
        },
        "outputId": "f8004b82-db32-4419-a59f-965942221435"
      },
      "outputs": [
        {
          "output_type": "execute_result",
          "data": {
            "text/plain": [
              "9125"
            ]
          },
          "metadata": {},
          "execution_count": 207
        }
      ],
      "source": [
        "#Afficher le nombre de films (fonction count)\n",
        "films.count()\n",
        "#résultat: 9125"
      ]
    },
    {
      "cell_type": "code",
      "execution_count": 208,
      "metadata": {
        "id": "g89xDC4WnAfa",
        "colab": {
          "base_uri": "https://localhost:8080/"
        },
        "outputId": "7fd64ec6-6900-4016-c875-585ada4730d7"
      },
      "outputs": [
        {
          "output_type": "stream",
          "name": "stdout",
          "text": [
            "+-------+------------------+\n",
            "|summary|                nF|\n",
            "+-------+------------------+\n",
            "|  count|              9125|\n",
            "|   mean|31123.291835616437|\n",
            "| stddev|40782.633603974195|\n",
            "|    min|                 1|\n",
            "|    max|            164979|\n",
            "+-------+------------------+\n",
            "\n"
          ]
        }
      ],
      "source": [
        "#Décrire (donner les statistiques) de la colonne nF de films (fonction describe)\n",
        "films.select(\"nF\").describe().show()"
      ]
    },
    {
      "cell_type": "markdown",
      "source": [
        "Résultat:\n",
        "\n",
        "\n",
        "```\n",
        "+-------+------------------+\n",
        "|summary|                nf|\n",
        "+-------+------------------+\n",
        "|  count|              9125|\n",
        "|   mean|31123.291835616437|\n",
        "| stddev|40782.633603974195|\n",
        "|    min|                 1|\n",
        "|    max|            164979|\n",
        "+-------+------------------+\n",
        "```\n",
        "\n"
      ],
      "metadata": {
        "id": "cacZWDEtk3SO"
      }
    },
    {
      "cell_type": "code",
      "execution_count": 209,
      "metadata": {
        "id": "iG-rbMJSnAfa",
        "colab": {
          "base_uri": "https://localhost:8080/"
        },
        "outputId": "bbeac2bf-5e93-4715-e128-4f9f013f1e43"
      },
      "outputs": [
        {
          "output_type": "stream",
          "name": "stdout",
          "text": [
            "+-------+------------------+--------------------+\n",
            "|summary|                nF|               titre|\n",
            "+-------+------------------+--------------------+\n",
            "|  count|              9125|                9125|\n",
            "|   mean|31123.291835616437|                NULL|\n",
            "| stddev|40782.633603974195|                NULL|\n",
            "|    min|                 1|\"\"\"Great Performa...|\n",
            "|    max|            164979| İtirazım Var (2014)|\n",
            "+-------+------------------+--------------------+\n",
            "\n"
          ]
        }
      ],
      "source": [
        "# statistiques sur les attributs\n",
        "films.describe().show()"
      ]
    },
    {
      "cell_type": "markdown",
      "source": [
        "Résultat:\n",
        "\n",
        "```\n",
        "+-------+------------------+--------------------+\n",
        "|summary|                nF|               titre|\n",
        "+-------+------------------+--------------------+\n",
        "|  count|              9125|                9125|\n",
        "|   mean|31123.291835616437|                null|\n",
        "| stddev|40782.633603974195|                null|\n",
        "|    min|                 1|\"\"\"Great Performa...|\n",
        "|    25%|              2849|                null|\n",
        "|    50%|              6287|                null|\n",
        "|    75%|             56251|                null|\n",
        "|    max|            164979| İtirazım Var (2014)|\n",
        "+-------+------------------+--------------------+\n",
        "```"
      ],
      "metadata": {
        "id": "3-C9xF1qkQt_"
      }
    },
    {
      "cell_type": "markdown",
      "metadata": {
        "id": "6nKS1hEAnAfa"
      },
      "source": [
        "## Requêtes: Interrogation  des films\n",
        "   - afficher 10 titres de films\n",
        "   - afficher les titres de films, les numéros de films incrémentés de 1 et les genres\n",
        "   - afficher les films dont le titre commence par 'Police', les ordonner par nF (fonction startswith)\n",
        "   - créer une nouvelle DataFrame films2 avec un seul genre par film (pour un film avec n genres, il y a n lignes); fonction explode\n",
        "   - afficher deux lignes de films2\n",
        "   - afficher le nombre de genres distinct\n",
        "   - afficher le nombre de films par genre (groupBy)"
      ]
    },
    {
      "cell_type": "code",
      "execution_count": 210,
      "metadata": {
        "id": "MEYGphhMnAfb",
        "colab": {
          "base_uri": "https://localhost:8080/"
        },
        "outputId": "b57deb90-fa7a-4fdf-f47f-23f1ee5f74e5"
      },
      "outputs": [
        {
          "output_type": "stream",
          "name": "stdout",
          "text": [
            "+--------------------+\n",
            "|               titre|\n",
            "+--------------------+\n",
            "|Prime of Miss Jea...|\n",
            "|Lesson of the Evi...|\n",
            "|Fox and the Hound...|\n",
            "|Sinbad: Legend of...|\n",
            "|       Gloria (1980)|\n",
            "|    Lady Jane (1986)|\n",
            "|4 Months, 3 Weeks...|\n",
            "|Ella Enchanted (2...|\n",
            "|In a World... (2013)|\n",
            "|The Disappearance...|\n",
            "+--------------------+\n",
            "only showing top 10 rows\n",
            "\n"
          ]
        }
      ],
      "source": [
        "# Afficher 10 titres de films\n",
        "films.select(\"titre\").show(10)"
      ]
    },
    {
      "cell_type": "markdown",
      "metadata": {
        "id": "zGzhGiun61cr"
      },
      "source": [
        "\n",
        "```\n",
        "# Résultat:\n",
        "+--------------------+\n",
        "|               titre|\n",
        "+--------------------+\n",
        "|Prime of Miss Jea...|\n",
        "|Lesson of the Evi...|\n",
        "|Fox and the Hound...|\n",
        "|Sinbad: Legend of...|\n",
        "|       Gloria (1980)|\n",
        "|    Lady Jane (1986)|\n",
        "|4 Months, 3 Weeks...|\n",
        "|Ella Enchanted (2...|\n",
        "|In a World... (2013)|\n",
        "|The Disappearance...|\n",
        "+--------------------+\n",
        "only showing top 10 rows\n",
        "```\n",
        "\n"
      ]
    },
    {
      "cell_type": "code",
      "execution_count": 211,
      "metadata": {
        "id": "X6-vi3XCnAfb",
        "colab": {
          "base_uri": "https://localhost:8080/"
        },
        "outputId": "e09dcf1e-69a9-4ad9-d48e-65fddf947025"
      },
      "outputs": [
        {
          "output_type": "stream",
          "name": "stdout",
          "text": [
            "+--------------------+--------+--------------------+\n",
            "|               titre|(nF + 1)|                   g|\n",
            "+--------------------+--------+--------------------+\n",
            "|Prime of Miss Jea...|    8755|             [Drama]|\n",
            "|Lesson of the Evi...|  111487|          [Thriller]|\n",
            "|Fox and the Hound...|    1034|[Animation, Child...|\n",
            "+--------------------+--------+--------------------+\n",
            "only showing top 3 rows\n",
            "\n"
          ]
        }
      ],
      "source": [
        "#Afficher 3 titres de films, les numéros de films incrémentés de 1 et les genres\n",
        "\n",
        "# films.replace(\"nF\", \"nF\" +1).select(\"titre\", \"nF\", \"g\").show(3)\n",
        "\n",
        "films.select(films.titre, films.nF +1, films.g).show(3)"
      ]
    },
    {
      "cell_type": "markdown",
      "metadata": {
        "id": "03omoAcW-Arw"
      },
      "source": [
        "Résultat:\n",
        "\n",
        "\n",
        "```\n",
        "# +--------------------+--------+--------------------+\n",
        "|               titre|(nF + 1)|                   g|\n",
        "+--------------------+--------+--------------------+\n",
        "|Prime of Miss Jea...|    8755|             [Drama]|\n",
        "|Lesson of the Evi...|  111487|          [Thriller]|\n",
        "|Fox and the Hound...|    1034|[Animation, Child...|\n",
        "+--------------------+--------+--------------------+\n",
        "```\n",
        "\n"
      ]
    },
    {
      "cell_type": "code",
      "execution_count": 212,
      "metadata": {
        "id": "HfT3-g5tnAfb",
        "colab": {
          "base_uri": "https://localhost:8080/"
        },
        "outputId": "a9c55cee-0776-48bf-e88d-5f02bdb10feb"
      },
      "outputs": [
        {
          "output_type": "stream",
          "name": "stdout",
          "text": [
            "+--------------------+-----+--------------------+\n",
            "|                   g|   nF|               titre|\n",
            "+--------------------+-----+--------------------+\n",
            "|     [Comedy, Crime]| 2378|Police Academy (1...|\n",
            "|     [Comedy, Crime]| 2379|Police Academy 2:...|\n",
            "|     [Comedy, Crime]| 2380|Police Academy 3:...|\n",
            "|     [Comedy, Crime]| 2381|Police Academy 4:...|\n",
            "|     [Comedy, Crime]| 2382|Police Academy 5:...|\n",
            "|     [Comedy, Crime]| 2383|Police Academy 6:...|\n",
            "|     [Comedy, Crime]| 8387|Police Academy: M...|\n",
            "|[Action, Comedy, ...|26547|Police Story (Gin...|\n",
            "+--------------------+-----+--------------------+\n",
            "\n"
          ]
        }
      ],
      "source": [
        "#Afficher les films dont le titre commence par 'Police', les ordonner par nF (filter avec  startswith, orderBy, show)\n",
        "films.select(films.g, films.nF, films.titre).filter(films.titre.startswith(\"Police\")).orderBy('nF').show(20)"
      ]
    },
    {
      "cell_type": "markdown",
      "metadata": {
        "id": "-WBkmsad-PIL"
      },
      "source": [
        "Résultat:\n",
        "```\n",
        "# +---------------+----+--------------------+\n",
        "|              g|  nF|               titre|\n",
        "+---------------+----+--------------------+\n",
        "|[Comedy, Crime]|2378|Police Academy (1...|\n",
        "|[Comedy, Crime]|2379|Police Academy 2:...|\n",
        "|[Comedy, Crime]|2380|Police Academy 3:...|\n",
        "+---------------+----+--------------------+\n",
        "```\n",
        "\n"
      ]
    },
    {
      "cell_type": "code",
      "execution_count": 213,
      "metadata": {
        "id": "PltT_rdKnAfc",
        "colab": {
          "base_uri": "https://localhost:8080/"
        },
        "outputId": "1568b839-5a0f-4da6-e83e-926193c39534"
      },
      "outputs": [
        {
          "output_type": "execute_result",
          "data": {
            "text/plain": [
              "9107"
            ]
          },
          "metadata": {},
          "execution_count": 213
        }
      ],
      "source": [
        "# Pour les films sans genre il y films.g est un array de taille 1 avec '(no genres listed)')\n",
        "# Créer un Dataframe tmp qui contient que les films sans les films sans genre (fonction array_contains) et afficher le nombre de films dans ce Dataframe\n",
        "#Résultat: 9107\n",
        "films.count()\n",
        "\n",
        "tmp = films.select(films.titre, films.g, films.nF).filter(~array_contains(films.g, '(no genres listed)'))\n",
        "tmp.count()"
      ]
    },
    {
      "cell_type": "code",
      "execution_count": 214,
      "metadata": {
        "id": "I-nflGdtnAfc",
        "colab": {
          "base_uri": "https://localhost:8080/"
        },
        "outputId": "6ead2977-c37d-4971-8bd2-d4814b23273b"
      },
      "outputs": [
        {
          "output_type": "stream",
          "name": "stdout",
          "text": [
            "+--------------------+---------+------+\n",
            "|               titre|    genre|    nF|\n",
            "+--------------------+---------+------+\n",
            "|Prime of Miss Jea...|    Drama|  8754|\n",
            "|Lesson of the Evi...| Thriller|111486|\n",
            "|Fox and the Hound...|Animation|  1033|\n",
            "|Fox and the Hound...| Children|  1033|\n",
            "|Fox and the Hound...|    Drama|  1033|\n",
            "|Sinbad: Legend of...|Adventure|  6536|\n",
            "|Sinbad: Legend of...|Animation|  6536|\n",
            "|Sinbad: Legend of...| Children|  6536|\n",
            "|Sinbad: Legend of...|  Fantasy|  6536|\n",
            "|       Gloria (1980)|    Drama|  5179|\n",
            "|       Gloria (1980)| Thriller|  5179|\n",
            "|    Lady Jane (1986)|    Drama|  6201|\n",
            "|    Lady Jane (1986)|  Romance|  6201|\n",
            "|4 Months, 3 Weeks...|    Drama| 55069|\n",
            "|Ella Enchanted (2...|   Comedy|  7380|\n",
            "|Ella Enchanted (2...|  Fantasy|  7380|\n",
            "|Ella Enchanted (2...|  Romance|  7380|\n",
            "|In a World... (2013)|   Comedy|104339|\n",
            "|The Disappearance...|    Drama|130580|\n",
            "|Thin Man Goes Hom...|   Comedy|  7832|\n",
            "+--------------------+---------+------+\n",
            "only showing top 20 rows\n",
            "\n"
          ]
        }
      ],
      "source": [
        "#Créer un nouveau DataFrame films_g à partir de tmp avec un seul genre par film (pour un film avec n genres, il y a n lignes); utiliser la fonction explode\n",
        "\n",
        "films_g = tmp.select(films.titre, explode(films.g).alias('genre'),films.nF)\n",
        "\n",
        "films_g.show(20)\n"
      ]
    },
    {
      "cell_type": "markdown",
      "metadata": {
        "id": "Rlyq57HC-sFB"
      },
      "source": [
        "Résultat:\n",
        "```\n",
        "# +--------------------+---------+------+\n",
        "|               titre|    genre|    nF|\n",
        "+--------------------+---------+------+\n",
        "|Prime of Miss Jea...|    Drama|  8754|\n",
        "|Lesson of the Evi...| Thriller|111486|\n",
        "|Fox and the Hound...|Animation|  1033|\n",
        "+--------------------+---------+------+\n",
        "```\n"
      ]
    },
    {
      "cell_type": "code",
      "execution_count": 215,
      "metadata": {
        "id": "3hWb6BJAnAfc",
        "colab": {
          "base_uri": "https://localhost:8080/"
        },
        "outputId": "57c20455-be7d-4dea-f5ff-152af014a113"
      },
      "outputs": [
        {
          "output_type": "execute_result",
          "data": {
            "text/plain": [
              "20"
            ]
          },
          "metadata": {},
          "execution_count": 215
        }
      ],
      "source": [
        "# Calculer le nombre de genres distinct (distinct et count)\n",
        "\n",
        "\n",
        "nb_g_distinct = films.select(explode(col(\"g\"))).distinct().count()\n",
        "\n",
        "nb_g_distinct\n",
        "\n",
        "#Résultat: 19"
      ]
    },
    {
      "cell_type": "code",
      "execution_count": 216,
      "metadata": {
        "id": "FFo6M7vSnAfc",
        "colab": {
          "base_uri": "https://localhost:8080/"
        },
        "outputId": "0f584376-14ca-45a8-bc70-1b39b7aaee3f"
      },
      "outputs": [
        {
          "output_type": "stream",
          "name": "stdout",
          "text": [
            "+------------------+-----+\n",
            "|               col|count|\n",
            "+------------------+-----+\n",
            "|          Children|  583|\n",
            "|           Fantasy|  654|\n",
            "|             Crime| 1100|\n",
            "|            Horror|  877|\n",
            "|             Drama| 4365|\n",
            "|         Adventure| 1117|\n",
            "|            Sci-Fi|  792|\n",
            "|           Musical|  394|\n",
            "|           Western|  168|\n",
            "|              IMAX|  153|\n",
            "|          Thriller| 1729|\n",
            "|         Animation|  447|\n",
            "|           Romance| 1545|\n",
            "|            Comedy| 3315|\n",
            "|           Mystery|  543|\n",
            "|               War|  367|\n",
            "|(no genres listed)|   18|\n",
            "|       Documentary|  495|\n",
            "|            Action| 1545|\n",
            "|         Film-Noir|  133|\n",
            "+------------------+-----+\n",
            "\n"
          ]
        }
      ],
      "source": [
        "# Afficher le nombre de films par genre (groupBy et count)\n",
        "films_cpt = films.select(explode(col(\"g\"))).groupBy(\"col\").count()\n",
        "\n",
        "films_cpt.show()"
      ]
    },
    {
      "cell_type": "markdown",
      "metadata": {
        "id": "3aW5Z5sY_HEk"
      },
      "source": [
        "Résultat:\n",
        "```\n",
        "# +-----------+-----+\n",
        "|      genre|count|\n",
        "+-----------+-----+\n",
        "|      Crime| 1100|\n",
        "|     Horror|  877|\n",
        "|  Adventure| 1117|\n",
        "|     Sci-Fi|  792|\n",
        "|    Musical|  394|\n",
        "|    Western|  168|\n",
        "|    Romance| 1545|\n",
        "|     Comedy| 3315|\n",
        "|    Mystery|  543|\n",
        "|        War|  367|\n",
        "|Documentary|  495|\n",
        "|   Children|  583|\n",
        "|    Fantasy|  654|\n",
        "|      Drama| 4365|\n",
        "|       IMAX|  153|\n",
        "|   Thriller| 1729|\n",
        "|  Animation|  447|\n",
        "|     Action| 1545|\n",
        "|  Film-Noir|  133|\n",
        "+-----------+-----+\n",
        "```\n",
        "\n"
      ]
    },
    {
      "cell_type": "markdown",
      "metadata": {
        "id": "SjjGdNAe_91Q"
      },
      "source": [
        "## Lire le fichier notesAMJ.csv et créer le DataFrame notes"
      ]
    },
    {
      "cell_type": "code",
      "execution_count": 217,
      "metadata": {
        "id": "ay7DuD2hAVGH",
        "colab": {
          "base_uri": "https://localhost:8080/"
        },
        "outputId": "3de3990b-8263-4a5c-fc00-bc0677bd6855"
      },
      "outputs": [
        {
          "output_type": "stream",
          "name": "stdout",
          "text": [
            "Lecture du fichier:  /content/drive/MyDrive/mlia/TP/notesAMJ.csv\n",
            "root\n",
            " |-- nU: integer (nullable = true)\n",
            " |-- nF: long (nullable = true)\n",
            " |-- note: float (nullable = true)\n",
            " |-- annee: integer (nullable = true)\n",
            " |-- mois: integer (nullable = true)\n",
            " |-- jour: integer (nullable = true)\n",
            "\n"
          ]
        },
        {
          "output_type": "execute_result",
          "data": {
            "text/plain": [
              "100004"
            ]
          },
          "metadata": {},
          "execution_count": 217
        }
      ],
      "source": [
        "schema = \"\"\"\n",
        "          nU INT,\n",
        "          nF LONG,\n",
        "          note FLOAT,\n",
        "          annee INT,\n",
        "          mois INT,\n",
        "          jour INT\n",
        "        \"\"\"\n",
        "print(\"Lecture du fichier: \", DATASET_DIR+\"/notesAMJ.csv\")\n",
        "notes = spark.read.csv(DATASET_DIR+\"/notesAMJ.csv\", header='true', schema=schema)\n",
        "notes.printSchema()\n",
        "notes=notes.persist()\n",
        "notes.count() #résultat: 100004"
      ]
    },
    {
      "cell_type": "markdown",
      "metadata": {
        "id": "_cTQtEdcnAfd"
      },
      "source": [
        "## Requêtes: Interrogation des notes\n",
        "  - lire le fichier notesAMJ.csv (le fichier contient pour chaque utilisateur les films qu'il a notés\n",
        "      (avec la date (année, mois, jour) de la note))\n",
        "  - afficher le schéma obtenu\n",
        "  - afficher le contenu (3 lignes)\n",
        "  - afficher le nombre d'années distinctes\n",
        "  - afficher le nombre de dates (comprenant année, mois, jour) distinctes\n",
        "  - afficher la note maximale, moyenne et minimale\n",
        "  - grouper les notes par numéro de film\n",
        "  - afficher la note moyenne par film\n",
        "  - pour chaque utilisateur\n",
        "     - afficher son nombre total de notes differentes, la note maximum, minimum et moyenne\n",
        "     - trier le resultat de la requête précédente par le nombre de notes décroissant et le numéro d'utilisateur"
      ]
    },
    {
      "cell_type": "code",
      "execution_count": 218,
      "metadata": {
        "id": "LB93BNtknAfd",
        "colab": {
          "base_uri": "https://localhost:8080/"
        },
        "outputId": "93852ed1-fdf6-46dd-a941-9a6daa032614"
      },
      "outputs": [
        {
          "output_type": "stream",
          "name": "stdout",
          "text": [
            "root\n",
            " |-- nU: integer (nullable = true)\n",
            " |-- nF: long (nullable = true)\n",
            " |-- note: float (nullable = true)\n",
            " |-- annee: integer (nullable = true)\n",
            " |-- mois: integer (nullable = true)\n",
            " |-- jour: integer (nullable = true)\n",
            "\n",
            "+---+-----+----+-----+----+----+\n",
            "| nU|   nF|note|annee|mois|jour|\n",
            "+---+-----+----+-----+----+----+\n",
            "|175|   48| 3.0| 2003|   5|  14|\n",
            "|461| 2001| 3.0| 2004|   8|   8|\n",
            "|547|89881| 4.0| 2011|  10|   8|\n",
            "+---+-----+----+-----+----+----+\n",
            "only showing top 3 rows\n",
            "\n"
          ]
        }
      ],
      "source": [
        "# Afficher le schéma de notes ainsi que 3 lignes de son contenu\n",
        "notes.printSchema()\n",
        "notes.show(3)"
      ]
    },
    {
      "cell_type": "markdown",
      "metadata": {
        "id": "i81tAdwkBNyX"
      },
      "source": [
        "Résultat:\n",
        "```\n",
        "# root\n",
        " |-- nU: integer (nullable = true)\n",
        " |-- nF: long (nullable = true)\n",
        " |-- note: float (nullable = true)\n",
        " |-- annee: integer (nullable = true)\n",
        " |-- mois: integer (nullable = true)\n",
        " |-- jour: integer (nullable = true)\n",
        "\n",
        "+---+-----+----+-----+----+----+\n",
        "|nU |nF   |note|annee|mois|jour|\n",
        "+---+-----+----+-----+----+----+\n",
        "|175|48   |3.0 |2003 |5   |14  |\n",
        "|461|2001 |3.0 |2004 |8   |8   |\n",
        "|547|89881|4.0 |2011 |10  |8   |\n",
        "+---+-----+----+-----+----+----+\n",
        "```\n",
        "\n"
      ]
    },
    {
      "cell_type": "code",
      "execution_count": 219,
      "metadata": {
        "id": "CytbNDlInAfd",
        "colab": {
          "base_uri": "https://localhost:8080/"
        },
        "outputId": "9f5d3fe7-0f8b-48ec-c19b-fc7268fea7fb"
      },
      "outputs": [
        {
          "output_type": "execute_result",
          "data": {
            "text/plain": [
              "22"
            ]
          },
          "metadata": {},
          "execution_count": 219
        }
      ],
      "source": [
        "#Afficher le nombre d'années distinctes (countDistinct)\n",
        "\n",
        "# films_cpt=genres.groupBy('genre') \\\n",
        "# .agg(count('nF'),countDistinct('nF'))\n",
        "\n",
        "annees_cpt = notes.groupBy('annee').agg(count('nF'),countDistinct('nF')).count()\n",
        "annees_cpt\n"
      ]
    },
    {
      "cell_type": "markdown",
      "metadata": {
        "id": "YF7MLSfaBc10"
      },
      "source": [
        "Résultat:\n",
        "```\n",
        "# +---------------------+\n",
        "|count(DISTINCT annee)|\n",
        "+---------------------+\n",
        "|                   22|\n",
        "+---------------------+\n",
        "```\n",
        "\n"
      ]
    },
    {
      "cell_type": "code",
      "execution_count": 220,
      "metadata": {
        "id": "Sr4Hu7vinAfe",
        "colab": {
          "base_uri": "https://localhost:8080/"
        },
        "outputId": "ae6e8e00-35e9-40a2-8a4e-47e33f7551e2"
      },
      "outputs": [
        {
          "output_type": "execute_result",
          "data": {
            "text/plain": [
              "3840"
            ]
          },
          "metadata": {},
          "execution_count": 220
        }
      ],
      "source": [
        "#Afficher le nombre de dates distinctes (annee, mois, jour)\n",
        "\n",
        "annees_cpt = notes.groupBy('annee','mois','jour').agg(count('nU'),count('nU')).count()\n",
        "annees_cpt"
      ]
    },
    {
      "cell_type": "markdown",
      "metadata": {
        "id": "WpPo_U2gBpxY"
      },
      "source": [
        "Résultat:\n",
        "```\n",
        "# +---------------------------------+\n",
        "|count(DISTINCT annee, mois, jour)|\n",
        "+---------------------------------+\n",
        "|                             3840|\n",
        "+---------------------------------+\n",
        "```\n",
        "\n"
      ]
    },
    {
      "cell_type": "code",
      "execution_count": 221,
      "metadata": {
        "id": "JOzHxN6enAfe",
        "colab": {
          "base_uri": "https://localhost:8080/"
        },
        "outputId": "e521dc99-aabd-4ad1-c5e6-ed2fd2a2953c"
      },
      "outputs": [
        {
          "output_type": "stream",
          "name": "stdout",
          "text": [
            "+---------+---------+-----------------+\n",
            "|min(note)|max(note)|        avg(note)|\n",
            "+---------+---------+-----------------+\n",
            "|      0.5|      5.0|3.543608255669773|\n",
            "+---------+---------+-----------------+\n",
            "\n"
          ]
        }
      ],
      "source": [
        "#Afficher la note maximale, moyenne et minimale (min, max, avg)\n",
        "note_stats = notes.agg(min('note'), max('note'), avg('note'))\n",
        "note_stats.show()"
      ]
    },
    {
      "cell_type": "markdown",
      "metadata": {
        "id": "TGfk_EdEB1Qi"
      },
      "source": [
        "Résultat:\n",
        "```\n",
        "# +---------+---------+-----------------+\n",
        "|min(note)|max(note)|        avg(note)|\n",
        "+---------+---------+-----------------+\n",
        "|      0.5|      5.0|3.543608255669773|\n",
        "+---------+---------+-----------------+\n",
        "```\n",
        "\n"
      ]
    },
    {
      "cell_type": "code",
      "execution_count": 222,
      "metadata": {
        "id": "3zWlLgPFnAfe"
      },
      "outputs": [],
      "source": [
        "#Grouper les notes par numéro de film (groupBy) et stocker le résultat dans un Dataframe notes_groupee\n",
        "notes_groupee = notes.groupBy('nF')\n",
        "\n",
        "#pas de résultat à afficher"
      ]
    },
    {
      "cell_type": "code",
      "execution_count": 223,
      "metadata": {
        "id": "dt96e23lnAfe",
        "colab": {
          "base_uri": "https://localhost:8080/"
        },
        "outputId": "b5553b23-d631-47f0-9da6-8c5ba1888aba"
      },
      "outputs": [
        {
          "output_type": "stream",
          "name": "stdout",
          "text": [
            "+------+------------------+\n",
            "|    nF|          note_avg|\n",
            "+------+------------------+\n",
            "|    48|2.9262295081967213|\n",
            "| 89881|               4.0|\n",
            "|   208| 2.752212389380531|\n",
            "| 96737|               3.2|\n",
            "|  6957|               3.5|\n",
            "|  2791|3.8207547169811322|\n",
            "| 84152|3.8157894736842106|\n",
            "|  1573|3.4518072289156625|\n",
            "|   802| 3.326388888888889|\n",
            "|   783| 3.357142857142857|\n",
            "|  2496|3.3095238095238093|\n",
            "|  2291| 3.848314606741573|\n",
            "|115713|3.9423076923076925|\n",
            "|139385|             3.625|\n",
            "|   553| 3.482456140350877|\n",
            "|  3448| 3.660377358490566|\n",
            "|  7137|               4.0|\n",
            "|  2615|3.3333333333333335|\n",
            "|  6935|3.8333333333333335|\n",
            "|  1777|3.2357142857142858|\n",
            "+------+------------------+\n",
            "only showing top 20 rows\n",
            "\n"
          ]
        }
      ],
      "source": [
        "#Afficher la note moyenne par film en utilisant le Dataframe notes_groupees (avg)\n",
        "note_moy = notes_groupee.agg(avg('note').alias('note_avg'))\n",
        "note_moy.show()"
      ]
    },
    {
      "cell_type": "markdown",
      "metadata": {
        "id": "jJFT0ck8CTFa"
      },
      "source": [
        "Résultat:\n",
        "```\n",
        "# +-----+------------------+\n",
        "|   nF|         avg(note)|\n",
        "+-----+------------------+\n",
        "|   48|2.9262295081967213|\n",
        "|89881|               4.0|\n",
        "|  208| 2.752212389380531|\n",
        "+-----+------------------+\n",
        "```\n",
        "\n"
      ]
    },
    {
      "cell_type": "code",
      "execution_count": 224,
      "metadata": {
        "id": "G7ENC_1TnAfe",
        "colab": {
          "base_uri": "https://localhost:8080/"
        },
        "outputId": "0f7bcb5f-1038-4e4a-e9bd-b1c74c8b073e"
      },
      "outputs": [
        {
          "output_type": "stream",
          "name": "stdout",
          "text": [
            "root\n",
            " |-- nF: long (nullable = true)\n",
            " |-- note_avg: double (nullable = true)\n",
            "\n",
            "+------+--------+\n",
            "|    nF|note_avg|\n",
            "+------+--------+\n",
            "| 69761|     5.0|\n",
            "|126430|     5.0|\n",
            "| 26422|     5.0|\n",
            "|  3737|     5.0|\n",
            "| 71755|     5.0|\n",
            "| 59392|     5.0|\n",
            "|  9010|     5.0|\n",
            "| 67504|     5.0|\n",
            "|  2649|     5.0|\n",
            "|  1312|     5.0|\n",
            "|  1450|     5.0|\n",
            "| 95113|     5.0|\n",
            "|102217|     5.0|\n",
            "|  6769|     5.0|\n",
            "|127108|     5.0|\n",
            "| 42900|     5.0|\n",
            "|120805|     5.0|\n",
            "|  8121|     5.0|\n",
            "|  2897|     5.0|\n",
            "|  7564|     5.0|\n",
            "+------+--------+\n",
            "only showing top 20 rows\n",
            "\n"
          ]
        }
      ],
      "source": [
        "#Afficher les notes moyennes par film triées par ordre décroissant de la note (orderBy avec desc)\n",
        "note_moy.printSchema()\n",
        "note_moy.select(note_moy.nF, note_moy.note_avg).orderBy('note_avg', ascending=[0,1]).show()\n",
        "\n"
      ]
    },
    {
      "cell_type": "markdown",
      "metadata": {
        "id": "GMNsDAT5CmTM"
      },
      "source": [
        "Résultat:\n",
        "```\n",
        "# +---+---------+\n",
        "| nF|avg(note)|\n",
        "+---+---------+\n",
        "| 53|      5.0|\n",
        "|183|      5.0|\n",
        "|301|      5.0|\n",
        "+---+---------+\n",
        "```\n",
        "\n"
      ]
    },
    {
      "cell_type": "code",
      "execution_count": 225,
      "metadata": {
        "id": "BDJBNwRWnAfe"
      },
      "outputs": [],
      "source": [
        "#Creer un dataframe notes_util qui groupe les notes par utilisateur\n",
        "#pas de rsultat à afficher\n",
        "notes_util = notes.groupBy('nU')"
      ]
    },
    {
      "cell_type": "code",
      "execution_count": 226,
      "metadata": {
        "id": "ZIV_wfX6nAff"
      },
      "outputs": [],
      "source": [
        "# Créer un Dataframe tmp qui contient pour chaque utilisateur le nombre total de notes differentes, la note maximum, minimum et moyenne\n",
        "tmp = notes_util.agg(count('note').alias('count'),min('note').alias('min'), max('note').alias('max'), avg('note').alias('avg'))\n",
        "\n",
        "# pas de résultat à afficher"
      ]
    },
    {
      "cell_type": "code",
      "execution_count": 227,
      "metadata": {
        "id": "2ocW5zpgnAff",
        "colab": {
          "base_uri": "https://localhost:8080/"
        },
        "outputId": "3cfc719d-5322-4579-a3d0-bd366e1087c6"
      },
      "outputs": [
        {
          "output_type": "stream",
          "name": "stdout",
          "text": [
            "+---+-----+---+---+-----+\n",
            "| nU|count|min|max|  avg|\n",
            "+---+-----+---+---+-----+\n",
            "|  1|   20|1.0|4.0| 2.55|\n",
            "| 14|   20|1.0|5.0| 2.95|\n",
            "| 35|   20|0.5|5.0|  2.4|\n",
            "| 76|   20|2.0|5.0|  3.8|\n",
            "|209|   20|1.0|4.0| 2.85|\n",
            "|221|   20|1.0|4.0|2.775|\n",
            "|249|   20|2.0|5.0|  3.6|\n",
            "|289|   20|0.5|5.0|3.675|\n",
            "|296|   20|0.5|5.0|3.975|\n",
            "|310|   20|0.5|5.0|2.675|\n",
            "|319|   20|2.0|5.0|  3.4|\n",
            "|325|   20|1.0|4.5|2.525|\n",
            "|337|   20|1.0|5.0| 2.95|\n",
            "|399|   20|1.0|5.0| 3.25|\n",
            "|438|   20|3.5|5.0|4.375|\n",
            "|444|   20|1.0|5.0|  3.3|\n",
            "|445|   20|1.5|5.0| 3.45|\n",
            "|448|   20|3.0|5.0| 4.75|\n",
            "|484|   20|1.0|5.0|  3.9|\n",
            "|485|   20|1.0|4.5|3.475|\n",
            "+---+-----+---+---+-----+\n",
            "only showing top 20 rows\n",
            "\n"
          ]
        }
      ],
      "source": [
        "# Trier le Dataframe tmp par le nombre de notes décroissant et le numéro d'utilisateur et afficher le résultat\n",
        "tmp.orderBy('count', 'nU', descending=[True]).show()"
      ]
    },
    {
      "cell_type": "markdown",
      "metadata": {
        "id": "WMghwUgRDFhb"
      },
      "source": [
        "Résultat:\n",
        "```\n",
        "# +---+-----+---+---+------------------+\n",
        "| nU|total|max|min|           moyenne|\n",
        "+---+-----+---+---+------------------+\n",
        "| 15|   10|5.0|0.5|2.6217647058823528|\n",
        "| 17|   10|5.0|0.5| 3.743801652892562|\n",
        "| 20|   10|5.0|0.5|3.2908163265306123|\n",
        "+---+-----+---+---+------------------+\n",
        "```\n",
        "\n"
      ]
    },
    {
      "cell_type": "markdown",
      "metadata": {
        "id": "SlQCtzvOnAff"
      },
      "source": [
        "### **Jointures films et notes**\n",
        "  - créer un DataFrame films_notes qui contient les films avec leur notes (une ligne par note)\n",
        "  - afficher le nombre de notes du film dont le titre contient la chaîne'Pocahontas'\n",
        "  - afficher pour chaque film, son titre, le nombre de notes, sa note moyenne, sa note maximale, sa note minimale\n",
        "  - les titres des films qui ne sont pas notés\n",
        "  - pour chaque genre les utilisateurs qui n'ont noté aucun film de ce genre\n",
        "  - exporter le DataFrame films_notes dans un fichier JSON et afficher le contenu du fichier obtenu\n",
        "  - essayer d'exporter films_notes dans un fichier CSV"
      ]
    },
    {
      "cell_type": "code",
      "execution_count": 228,
      "metadata": {
        "id": "6hszJCNUnAff",
        "colab": {
          "base_uri": "https://localhost:8080/"
        },
        "outputId": "84999e9e-1cc6-4fe7-9aa7-d5aa6dfdab05"
      },
      "outputs": [
        {
          "output_type": "stream",
          "name": "stdout",
          "text": [
            "+--------------------+---+----------------+---+---+----+-----+----+----+\n",
            "|                   g| nF|           titre| nU| nF|note|annee|mois|jour|\n",
            "+--------------------+---+----------------+---+---+----+-----+----+----+\n",
            "|[Adventure, Anima...|  1|Toy Story (1995)|126|  1| 5.0| 1996|   5|  28|\n",
            "|[Adventure, Anima...|  1|Toy Story (1995)|396|  1| 5.0| 1996|   6|  17|\n",
            "+--------------------+---+----------------+---+---+----+-----+----+----+\n",
            "only showing top 2 rows\n",
            "\n"
          ]
        }
      ],
      "source": [
        "# Créer un DataFrame films_notes qui contient les films avec leur notes (une ligne par note) (join)\n",
        "films_notes = films.join(notes, films.nF==notes.nF)\n",
        "films_notes.show(2)"
      ]
    },
    {
      "cell_type": "markdown",
      "metadata": {
        "id": "-iTfyvHtDhPv"
      },
      "source": [
        "Résultat:\n",
        "```\n",
        "# +----+--------------------+--------------------+---+----+-----+----+----+\n",
        "|  nF|                   g|               titre| nU|note|annee|mois|jour|\n",
        "+----+--------------------+--------------------+---+----+-----+----+----+\n",
        "|  48|[Animation, Child...|   Pocahontas (1995)|175| 3.0| 2003|   5|  14|\n",
        "|2001|[Action, Comedy, ...|Lethal Weapon 2 (...|461| 3.0| 2004|   8|   8|\n",
        "+----+--------------------+--------------------+---+----+-----+----+----+\n",
        "```\n",
        "\n"
      ]
    },
    {
      "cell_type": "code",
      "execution_count": 229,
      "metadata": {
        "id": "sSBEkkAUnAfg",
        "colab": {
          "base_uri": "https://localhost:8080/"
        },
        "outputId": "8d7cb58c-bfd9-45fc-948e-a3039bbfd673"
      },
      "outputs": [
        {
          "output_type": "stream",
          "name": "stdout",
          "text": [
            "+---------+\n",
            "|count(nU)|\n",
            "+---------+\n",
            "|       61|\n",
            "+---------+\n",
            "\n"
          ]
        }
      ],
      "source": [
        "#Afficher le nombre de notes du film dont le titre contient la chaîne'Pocahontas' (contains)\n",
        "test = films_notes.filter(films_notes.titre.contains('Pocahontas')).agg(count('nU'))\n",
        "test.show()\n",
        "#films.select(films.g, films.nF, films.titre).filter(films.titre.startswith(\"Police\")).orderBy('nF').show(20)\n",
        "#résultat: 61"
      ]
    },
    {
      "cell_type": "code",
      "execution_count": 230,
      "metadata": {
        "id": "Cp6JNVjEnAfg",
        "colab": {
          "base_uri": "https://localhost:8080/"
        },
        "outputId": "36600a3e-11c0-4b2a-bb53-25bba7c82404"
      },
      "outputs": [
        {
          "output_type": "stream",
          "name": "stdout",
          "text": [
            "+--------------------+-----+---+---+------------------+\n",
            "|               titre|count|min|max|               avg|\n",
            "+--------------------+-----+---+---+------------------+\n",
            "|Waiting to Exhale...|   13|1.0|3.5|2.3846153846153846|\n",
            "|         Heat (1995)|  104|1.0|5.0|3.8846153846153846|\n",
            "|American Presiden...|   82|1.0|5.0|3.6890243902439024|\n",
            "+--------------------+-----+---+---+------------------+\n",
            "only showing top 3 rows\n",
            "\n"
          ]
        }
      ],
      "source": [
        "# Afficher pour chaque film, son titre, le nombre de notes, sa note moyenne, sa note maximale, sa note minimale (groupBy + agg)\n",
        "films_cpt = films_notes.groupBy('titre').agg(count('note').alias('count'),min('note').alias('min'), max('note').alias('max'), avg('note').alias('avg'))\n",
        "films_cpt.show(3)"
      ]
    },
    {
      "cell_type": "markdown",
      "metadata": {
        "id": "VSMALNilEWGm"
      },
      "source": [
        "Résultat:\n",
        "```\n",
        "# +--------------------+-------+---+---+------------------+\n",
        "|               titre|nbNotes|max|min|           moyenne|\n",
        "+--------------------+-------+---+---+------------------+\n",
        "|    Toy Story (1995)|      9|5.0|1.0|3.8724696356275303|\n",
        "|      Jumanji (1995)|      8|5.0|1.5|3.4018691588785046|\n",
        "|Grumpier Old Men ...|     10|5.0|0.5|3.1610169491525424|\n",
        "+--------------------+-------+---+---+------------------+\n",
        "```\n",
        "\n"
      ]
    },
    {
      "cell_type": "markdown",
      "metadata": {
        "id": "2P54oFKmnAfg"
      },
      "source": [
        "### *Jointures externe et produit Cartesien*"
      ]
    },
    {
      "cell_type": "code",
      "execution_count": 231,
      "metadata": {
        "id": "Ayetr_C7nAfg"
      },
      "outputs": [],
      "source": [
        "# Créer un Dataframe f_films qui renomme l'attribut nF de films en nF1 (withColumnRenamed)\n",
        "f_films = films.withColumnRenamed('nF', 'nF1')\n",
        "#pas de résultat à afficher"
      ]
    },
    {
      "cell_type": "code",
      "execution_count": 232,
      "metadata": {
        "id": "KK8I-zNVnAfg"
      },
      "outputs": [],
      "source": [
        "# Joignez la table f_film avec la table notes par une jointure externe gauche (left outer join) qui garde aussi les films sans notes; stocker le résultat dans un Dataframe ff_notes\n",
        "\n",
        "ff_notes = f_films.join(notes, f_films.nF1==notes.nF, 'left_outer')\n",
        "\n",
        "#pas de résultat à afficher"
      ]
    },
    {
      "cell_type": "code",
      "execution_count": 233,
      "metadata": {
        "id": "uSL52-7SnAfg",
        "colab": {
          "base_uri": "https://localhost:8080/"
        },
        "outputId": "4c4e4176-8927-45fc-e8dd-7e424c859100"
      },
      "outputs": [
        {
          "output_type": "stream",
          "name": "stdout",
          "text": [
            "+--------------------+------+--------------------+----+----+----+-----+----+----+\n",
            "|                   g|   nF1|               titre|  nU|  nF|note|annee|mois|jour|\n",
            "+--------------------+------+--------------------+----+----+----+-----+----+----+\n",
            "|             [Drama]|  4712|Wild Child, The (...|NULL|NULL|NULL| NULL|NULL|NULL|\n",
            "|            [Comedy]|  4763|Iron Ladies, The ...|NULL|NULL|NULL| NULL|NULL|NULL|\n",
            "|         [Film-Noir]|  5169|Scarlet Street (1...|NULL|NULL|NULL| NULL|NULL|NULL|\n",
            "|  [Drama, Film-Noir]|  5289|Body and Soul (1947)|NULL|NULL|NULL| NULL|NULL|NULL|\n",
            "|             [Drama]|  6229|Two-Lane Blacktop...|NULL|NULL|NULL| NULL|NULL|NULL|\n",
            "|  [Crime, Film-Noir]|  6515|You Only Live Onc...|NULL|NULL|NULL| NULL|NULL|NULL|\n",
            "|[Film-Noir, Horro...|  6830|  Sudden Fear (1952)|NULL|NULL|NULL| NULL|NULL|NULL|\n",
            "|             [Drama]|  7243|Intolerance: Love...|NULL|NULL|NULL| NULL|NULL|NULL|\n",
            "|             [Drama]|  8494|Cincinnati Kid, T...|NULL|NULL|NULL| NULL|NULL|NULL|\n",
            "|[Drama, Film-Noir...| 25927|Stranger, The (1946)|NULL|NULL|NULL| NULL|NULL|NULL|\n",
            "|[Horror, Mystery,...| 34517|      Berserk (1967)|NULL|NULL|NULL| NULL|NULL|NULL|\n",
            "|            [Comedy]| 39421|After School Spec...|NULL|NULL|NULL| NULL|NULL|NULL|\n",
            "|[Crime, Drama, Fi...| 56015|Kansas City Confi...|NULL|NULL|NULL| NULL|NULL|NULL|\n",
            "|[Crime, Drama, My...|103449|      Passion (2012)|NULL|NULL|NULL| NULL|NULL|NULL|\n",
            "|             [Drama]|110871|  Rocket, The (2013)|NULL|NULL|NULL| NULL|NULL|NULL|\n",
            "|             [Drama]|111249|        Belle (2013)|NULL|NULL|NULL| NULL|NULL|NULL|\n",
            "|       [Documentary]|114254|         1971 (2014)|NULL|NULL|NULL| NULL|NULL|NULL|\n",
            "|[Drama, Romance, ...|114459|White Bird in a B...|NULL|NULL|NULL| NULL|NULL|NULL|\n",
            "|   [Children, Drama]|115139|Challenge to Lass...|NULL|NULL|NULL| NULL|NULL|NULL|\n",
            "|             [Drama]|118700|        Selma (2014)|NULL|NULL|NULL| NULL|NULL|NULL|\n",
            "+--------------------+------+--------------------+----+----+----+-----+----+----+\n",
            "only showing top 20 rows\n",
            "\n"
          ]
        }
      ],
      "source": [
        "# Afficher les films sans notes (isNull)\n",
        "ff_notes.filter(ff_notes.note.isNull()).show()\n"
      ]
    },
    {
      "cell_type": "markdown",
      "metadata": {
        "id": "UYy4M0R1E9UY"
      },
      "source": [
        "Résultat:\n",
        "\n",
        "\n",
        "```\n",
        "# +--------------------+\n",
        "|               titre|\n",
        "+--------------------+\n",
        "|Wild Child, The (...|\n",
        "|Iron Ladies, The ...|\n",
        "|Scarlet Street (1...|\n",
        "+--------------------+\n",
        "```\n",
        "\n"
      ]
    },
    {
      "cell_type": "code",
      "execution_count": 237,
      "metadata": {
        "colab": {
          "base_uri": "https://localhost:8080/"
        },
        "id": "wa9v32dunAfg",
        "outputId": "9d1a535f-ef56-4de6-e4f7-8b26bf043d6e"
      },
      "outputs": [
        {
          "output_type": "stream",
          "name": "stdout",
          "text": [
            "+--------------------+---------+------+\n",
            "|               titre|    genre|    nF|\n",
            "+--------------------+---------+------+\n",
            "|Prime of Miss Jea...|    Drama|  8754|\n",
            "|Lesson of the Evi...| Thriller|111486|\n",
            "|Fox and the Hound...|Animation|  1033|\n",
            "+--------------------+---------+------+\n",
            "only showing top 3 rows\n",
            "\n",
            "+--------------------+---------+------+\n",
            "|               titre|    genre|   nF1|\n",
            "+--------------------+---------+------+\n",
            "|Prime of Miss Jea...|    Drama|  8754|\n",
            "|Lesson of the Evi...| Thriller|111486|\n",
            "|Fox and the Hound...|Animation|  1033|\n",
            "+--------------------+---------+------+\n",
            "only showing top 3 rows\n",
            "\n",
            "+---------+---+\n",
            "|    genre| nU|\n",
            "+---------+---+\n",
            "|Animation| 11|\n",
            "|Animation| 71|\n",
            "|Animation|135|\n",
            "+---------+---+\n",
            "only showing top 3 rows\n",
            "\n"
          ]
        }
      ],
      "source": [
        "# Pour chaque genre les utilisateurs qui n'ont noté aucun film de ce genre\n",
        "# Indications:\n",
        "\n",
        "# - créer un premier Dataframe g_u qui contient des couples (genre, nU) où nU a vu des films du genre \"genre\"\n",
        "# - créer un deuxième Dataframe gu-tous qui contient tous les couples (genre, nU) possibles (crossjoin)\n",
        "# - utiliser les deux Dataframes pour calculer les couples (genre, nU) où nU n'a pas vu de films du genre \"genre\" (subtract)\n",
        "films_g.show(3)\n",
        "t = films_g.withColumnRenamed('nF', 'nF1')\n",
        "t.show(3)\n",
        "g_u=t.join(notes, t['nF1']==notes['nF']).select('genre','nU')\n",
        "\n",
        "g = films_g.select('genre').distinct()\n",
        "u = notes.select('nU').distinct()\n",
        "g_u_tous= g.crossJoin(u)\n",
        "g_u_tous.persist()\n",
        "g_u_tous.count()\n",
        "\n",
        "res=g_u_tous.subtract(g_u)\n",
        "res.show(3)\n"
      ]
    },
    {
      "cell_type": "markdown",
      "metadata": {
        "id": "vEPizYHaFNKn"
      },
      "source": [
        "Résultat:\n",
        "\n",
        "\n",
        "```\n",
        "# +---------+---+\n",
        "|    genre| nU|\n",
        "+---------+---+\n",
        "|Animation| 11|\n",
        "|Animation| 71|\n",
        "|Animation|230|\n",
        "+---------+---+\n",
        "```\n",
        "\n"
      ]
    },
    {
      "cell_type": "markdown",
      "metadata": {
        "id": "LIHqS7canAfh"
      },
      "source": [
        "# **Recommander des films aux utilisateurs**\n",
        "\n",
        "Appliquer le filtrage collaboratif (l'aproche centrée utilisateur) pour recommander à chaque utilisateur des films pas encore visionnés (on suppose qu'un film non noté par un utilisateur n'a pas été visionné par celui-ci). Voir une description de l'approche ici (https://en.wikipedia.org/wiki/Collaborative_filtering, section Memory-based).\n",
        "\n",
        "Nous allons tout d'abord préparer les données à partir des fichiers ratings.csv et movies.csv contenant les films et les notes des utilisateurs pour ces films et construire les strutures DataFrame correpondantes."
      ]
    },
    {
      "cell_type": "markdown",
      "metadata": {
        "id": "qBJgL8JAnAfh"
      },
      "source": [
        "## Préparation des données"
      ]
    },
    {
      "cell_type": "code",
      "execution_count": null,
      "metadata": {
        "id": "u8xOf8GsnAfh"
      },
      "outputs": [],
      "source": [
        "# charger le fichier ratings.csv dans un Datframe notes_i\n",
        "# charger le fichier ratings.csv dans un Datframe notes_i\n",
        "schema = \"\"\"\n",
        "          nU INT,\n",
        "          nF INT,\n",
        "          note FLOAT,\n",
        "          date INT\n",
        "        \"\"\"\n",
        "\n",
        "print(\"Lecture du fichier: \", DATASET_DIR+\"/ratings.csv\")\n",
        "notes_i =\n",
        "notes_i=notes_i.persist()\n",
        "\n",
        "# Afficher les données chargées\n",
        "notes_i.printSchema()\n",
        "notes_i.show(3)\n",
        "notes_i.count()"
      ]
    },
    {
      "cell_type": "markdown",
      "metadata": {
        "id": "NdxRbLqxKWxc"
      },
      "source": [
        "Résultat:\n",
        "```\n",
        "# root\n",
        " |-- nU: integer (nullable = true)\n",
        " |-- nF: integer (nullable = true)\n",
        " |-- note: float (nullable = true)\n",
        " |-- date: integer (nullable = true)\n",
        "\n",
        "+---+----+----+----------+\n",
        "| nU|  nF|note|      date|\n",
        "+---+----+----+----------+\n",
        "|  1|  31| 2.5|1260759144|\n",
        "|  1|1029| 3.0|1260759179|\n",
        "|  1|1061| 3.0|1260759182|\n",
        "+---+----+----+----------+\n",
        "only showing top 3 rows\n",
        "\n",
        "100004\n",
        "```\n",
        "\n"
      ]
    },
    {
      "cell_type": "markdown",
      "metadata": {
        "id": "-4gtadXBnAfh"
      },
      "source": [
        "### *Extraction du jour, du mois et de l'année à partir de la date :*\n",
        "Dans le fichier ratings.csv la date à laquelle un utilisateur a noté un film est au format epoch Unix (timestamp). Nous allons extraire de cette date les informations concernant l'année, le mois et le jour. Cette conversion sera réalisée en deux étapes:\n",
        "- créer 3 fonctions utilisateur, chacune prenant comme paramètre un entier représentant la date à convertir (annotées @udf('integer')) et renvoyant respectivement le jour, le mois (compris entre 1 et   12) et l'année\n",
        "- invoquer ces fonctions à l'aide de la méthode withColumn(). Vérifier que les valeurs obtenues correspondent à celles  continues dans le fichier notesAMJ.csv"
      ]
    },
    {
      "cell_type": "code",
      "execution_count": null,
      "metadata": {
        "id": "k9KbxKq9nAfi"
      },
      "outputs": [],
      "source": [
        "from datetime import *\n",
        "from pyspark.sql.functions import udf"
      ]
    },
    {
      "cell_type": "code",
      "execution_count": null,
      "metadata": {
        "id": "aT0_LbWSnAfi"
      },
      "outputs": [],
      "source": [
        "#définir la fonction qui extrait le jour (compris entre 1 et 31) de la date\n",
        "@udf('integer')\n",
        "def getJour(v):\n",
        "    return datetime.utcfromtimestamp(v).day"
      ]
    },
    {
      "cell_type": "code",
      "execution_count": null,
      "metadata": {
        "id": "r07TNYENnAfi"
      },
      "outputs": [],
      "source": [
        "#tester la fonction précédente en l'appliquant à la colonne date de notes_i\n"
      ]
    },
    {
      "cell_type": "markdown",
      "metadata": {
        "id": "P1sj8WFILXCQ"
      },
      "source": [
        "Résultat:\n",
        "```\n",
        "# +----------+\n",
        "|      date|\n",
        "+----------+\n",
        "|1260759144|\n",
        "|1260759179|\n",
        "|1260759182|\n",
        "+----------+\n",
        "only showing top 3 rows\n",
        "\n",
        "+---+----+----+----------+----+\n",
        "| nU|  nF|note|      date|jour|\n",
        "+---+----+----+----------+----+\n",
        "|  1|  31| 2.5|1260759144|  14|\n",
        "|  1|1029| 3.0|1260759179|  14|\n",
        "|  1|1061| 3.0|1260759182|  14|\n",
        "+---+----+----+----------+----+\n",
        "```\n",
        "\n"
      ]
    },
    {
      "cell_type": "code",
      "execution_count": null,
      "metadata": {
        "id": "PTJZybFGnAfi"
      },
      "outputs": [],
      "source": [
        "#définir la fonction qui extrait le mois (compris entre 1 et 12) de la date\n"
      ]
    },
    {
      "cell_type": "code",
      "execution_count": null,
      "metadata": {
        "id": "lRW4cJ7JnAfi"
      },
      "outputs": [],
      "source": [
        "#définir la fonction qui extrait l'année\n"
      ]
    },
    {
      "cell_type": "code",
      "execution_count": null,
      "metadata": {
        "id": "R-F55w8GnAfi"
      },
      "outputs": [],
      "source": [
        "# appliquer les 3 fonctions précédentes à la colonne date de notes_i pour construire une nouvelle DataFrame notes\n",
        "# ayant comme colonnes nU, nF, note, jour, mois, annee\n",
        "....\n",
        "notes.persist() #garder les notes en mémoire\n",
        "notes.count()\n",
        "notes.show(3)"
      ]
    },
    {
      "cell_type": "markdown",
      "metadata": {
        "id": "qazRI8-6L2Q4"
      },
      "source": [
        "Résultat:\n",
        "```\n",
        "# +---+----+----+----+----+-----+\n",
        "| nU|  nF|note|jour|mois|annee|\n",
        "+---+----+----+----+----+-----+\n",
        "|  1|  31| 2.5|  14|  12| 2009|\n",
        "|  1|1029| 3.0|  14|  12| 2009|\n",
        "|  1|1061| 3.0|  14|  12| 2009|\n",
        "+---+----+----+----+----+-----+\n",
        "```\n",
        "\n"
      ]
    },
    {
      "cell_type": "code",
      "execution_count": null,
      "metadata": {
        "id": "sdxlDg8LnAfj"
      },
      "outputs": [],
      "source": [
        "# Creer un DataFrame films_i pour stocker les films qui se trouvent dans le fichier movies.csv\n",
        "#son schéma est le suivant: nF INT, titre STRING, g STRING\n",
        "print(\"Lecture du fichier: \", DATASET_DIR+\"/movies.csv\")\n",
        "....\n",
        "films_i=films_i.persist()\n",
        "films_i.printSchema()\n",
        "films_i.show(3)"
      ]
    },
    {
      "cell_type": "markdown",
      "metadata": {
        "id": "9ZLzKswENSXE"
      },
      "source": [
        "Résultat:\n",
        "\n",
        "\n",
        "```\n",
        "# root\n",
        " |-- nF: integer (nullable = true)\n",
        " |-- titre: string (nullable = true)\n",
        " |-- g: string (nullable = true)\n",
        "\n",
        "+---+--------------------+--------------------+\n",
        "| nF|               titre|                   g|\n",
        "+---+--------------------+--------------------+\n",
        "|  1|    Toy Story (1995)|Adventure|Animati...|\n",
        "|  2|      Jumanji (1995)|Adventure|Childre...|\n",
        "|  3|Grumpier Old Men ...|      Comedy|Romance|\n",
        "+---+--------------------+--------------------+\n",
        "```\n",
        "\n"
      ]
    },
    {
      "cell_type": "markdown",
      "metadata": {
        "id": "zpbi5GuGnAfj"
      },
      "source": [
        "#### **Transformation de la colonne des genres**\n",
        "\n",
        "Les genres de chaque film étant actuellement stockés dans une seule chaîne de caractères, nous allons remplacer\n",
        "cette chaîne par un tableau de chaînes (par exemple, pour un film avec une colonne g contenant 'Comedy, Romance'\n",
        "nous allons obtenir une colonne genres ['Comedy', 'Romance']).\n",
        "- utiliser la fonction split"
      ]
    },
    {
      "cell_type": "code",
      "execution_count": null,
      "metadata": {
        "id": "lukGHgZtnAfj"
      },
      "outputs": [],
      "source": [
        "#Construire le DataFrame films\n",
        "#résultat: 9125"
      ]
    },
    {
      "cell_type": "markdown",
      "metadata": {
        "id": "aX2adlecnAfj"
      },
      "source": [
        "Le nouveau DataFrame films aura les colonnes nF, titre et genres et sera gardé en mémoire.\n",
        "- afficher le schéma\n",
        "- afficher 3 lignes"
      ]
    },
    {
      "cell_type": "code",
      "execution_count": null,
      "metadata": {
        "id": "PHsLWvWMnAfj"
      },
      "outputs": [],
      "source": [
        "films.printSchema()\n",
        "films.show(3)"
      ]
    },
    {
      "cell_type": "markdown",
      "metadata": {
        "id": "eDMXcyQwNuFu"
      },
      "source": [
        "Résultat:\n",
        "```\n",
        "# root\n",
        " |-- nF: integer (nullable = true)\n",
        " |-- titre: string (nullable = true)\n",
        " |-- genres: array (nullable = true)\n",
        " |    |-- element: string (containsNull = true)\n",
        "\n",
        "+---+--------------------+--------------------+\n",
        "| nF|               titre|              genres|\n",
        "+---+--------------------+--------------------+\n",
        "|  1|    Toy Story (1995)|[Adventure, Anima...|\n",
        "|  2|      Jumanji (1995)|[Adventure, Child...|\n",
        "|  3|Grumpier Old Men ...|   [Comedy, Romance]|\n",
        "+---+--------------------+--------------------+\n",
        "```\n",
        "\n"
      ]
    },
    {
      "cell_type": "markdown",
      "metadata": {
        "id": "MYGw8w57nAfj"
      },
      "source": [
        "## **Calcul de recommandation**"
      ]
    },
    {
      "cell_type": "markdown",
      "metadata": {
        "id": "pL2Lx8YnnAfj"
      },
      "source": [
        "### 1.  Calcul de la similarité entre les utilisateurs (similarité Jaccard)\n",
        "\n",
        "Nous allons d'abord calculer pour chaque couple d'utilisateurs une valeur de similarité basée sur les films\n",
        "qu'ils ont notés en commun. Pour un utilisateur u nous avons besoin de connaître l'ensemble v des numéros de\n",
        "films qu'il a notés. La similarité entre les utilisateurs u1 et u2 sera calculée à partir des ensembles de films v1 et v2 correspondants.\n",
        "\n",
        "Similarité Jaccard (voir la description ici: https://en.wikipedia.org/wiki/Jaccard_index):\n",
        " - la similarité entre u1 et u2 est égale au nombre de films notés en commun par u1 et u2 divisé par le nombre total\n",
        "   de films notés par u1 ou u2. Par exemple, si u1 a noté les films f1, f3 et f4 (v1=[f1, f3, f4]) et u2 a noté les      films f3, f4, f5 et f6 (v2=[f3, f4, f5, f6]) leur similarité sera 2/5=0,4 ce qui correspond à la cardinalité de      l'intersection entre v1 et v2 divisée par la cardinalité de leur union).\n",
        "   \n",
        "Le calcul de similarité sera effectué en plusieurs étapes:"
      ]
    },
    {
      "cell_type": "markdown",
      "metadata": {
        "id": "xJA-3pz-nAfk",
        "scrolled": true
      },
      "source": [
        "- Étape 1: construire pour chaque utilisateur la liste des films qu'il a notés et les stocker dans le DataFrame liste_films qui aura 2 colonnes: nU et l_films qui contiendra un tableau de numéro de films"
      ]
    },
    {
      "cell_type": "code",
      "execution_count": null,
      "metadata": {
        "id": "_rYziszPnAfk"
      },
      "outputs": [],
      "source": [
        "liste_films=\n",
        "liste_films.printSchema()\n",
        "liste_films.show(2)\n"
      ]
    },
    {
      "cell_type": "markdown",
      "metadata": {
        "id": "YE6UYnDgOFWm"
      },
      "source": [
        "Résultat:\n",
        "```\n",
        "# root\n",
        " |-- nU: integer (nullable = true)\n",
        " |-- l_films: array (nullable = false)\n",
        " |    |-- element: integer (containsNull = false)\n",
        "\n",
        "+---+--------------------+\n",
        "| nU|             l_films|\n",
        "+---+--------------------+\n",
        "|  1|[31, 1029, 1061, ...|\n",
        "|  2|[10, 17, 39, 47, ...|\n",
        "+---+--------------------+\n",
        "```\n",
        "\n"
      ]
    },
    {
      "cell_type": "markdown",
      "metadata": {
        "id": "XIxDHlQYnAfk"
      },
      "source": [
        "- Étape 2: Construire tous les couples possibles d'utilisateurs avec leur listes de films respectives et les stocker dans le DataFrame couples_u qui aura comme colonnes nU1, nU2, l_films1, l_films2"
      ]
    },
    {
      "cell_type": "code",
      "execution_count": null,
      "metadata": {
        "id": "SznIqv_XnAfk"
      },
      "outputs": [],
      "source": [
        "# Construire un DataFrame intermédiaire t1(nU1, l_films1) à partir de liste films en renommant nU->nU1 et\n",
        "# l_films -> l_films1\n",
        "t1=\n",
        "t1.show(3)\n",
        "\n",
        "# Construire un DataFrame intermédiaire t2(nU2, l_films2) de manière similaire à t1\n",
        "t2=\n",
        "t2.show(3)\n",
        "\n",
        "#Construire couples_u(nU1, nU2, l_films1, l_films2) à partir de t1 et t2 (éliminer les couples où nU1=nU2)\n",
        "couples_u=\n",
        "couples_u.show(3)\n"
      ]
    },
    {
      "cell_type": "markdown",
      "metadata": {
        "id": "ExahCcSvOeQ5"
      },
      "source": [
        "Résultat:\n",
        "```\n",
        "# +---+--------------------+\n",
        "|nU1|            l_films1|\n",
        "+---+--------------------+\n",
        "|  1|[31, 1029, 1061, ...|\n",
        "|  2|[10, 17, 39, 47, ...|\n",
        "|  3|[60, 110, 247, 26...|\n",
        "+---+--------------------+\n",
        "only showing top 3 rows\n",
        "\n",
        "+---+--------------------+\n",
        "|nU2|            l_films2|\n",
        "+---+--------------------+\n",
        "|  1|[31, 1029, 1061, ...|\n",
        "|  2|[10, 17, 39, 47, ...|\n",
        "|  3|[60, 110, 247, 26...|\n",
        "+---+--------------------+\n",
        "only showing top 3 rows\n",
        "\n",
        "+---+--------------------+---+--------------------+\n",
        "|nU1|            l_films1|nU2|            l_films2|\n",
        "+---+--------------------+---+--------------------+\n",
        "|  1|[31, 1029, 1061, ...|  2|[10, 17, 39, 47, ...|\n",
        "|  1|[31, 1029, 1061, ...|  3|[60, 110, 247, 26...|\n",
        "|  1|[31, 1029, 1061, ...|  4|[10, 34, 112, 141...|\n",
        "+---+--------------------+---+--------------------+\n",
        "```\n",
        "\n"
      ]
    },
    {
      "cell_type": "markdown",
      "metadata": {
        "id": "eFZiAzOknAfk"
      },
      "source": [
        "- Étape 3: Définition d'une fonction utilisateur sim_jaccard qui calcule une valeur de similarité Jaccard à partir de deux listes spécifiées comme paramètres"
      ]
    },
    {
      "cell_type": "code",
      "execution_count": null,
      "metadata": {
        "id": "fMEutD3BnAfk"
      },
      "outputs": [],
      "source": [
        "@udf('float')\n",
        "def sim_jaccard(l1, l2):\n",
        "    set1=set(l1)\n",
        "    set2=set(l2)\n",
        "    l = len(set1.union(set2))\n",
        "    if (l == 0): return 0\n",
        "    return float(len(set1.intersection(set2)))/len(set1.union(set2))"
      ]
    },
    {
      "cell_type": "markdown",
      "metadata": {
        "id": "0TqQu-OUnAfk"
      },
      "source": [
        "- Étape 4: Calcul de la similarité entre chaque couple d'utilisateurs construit à l'étape 2 en appliquant la fonction de similarité définie à l'étape 3 à leur listes de films respectives. La similarité sera stockée dans le DataFrame sim_j(nU1, nU2, sim)"
      ]
    },
    {
      "cell_type": "code",
      "execution_count": null,
      "metadata": {
        "id": "SiUImJcvnAfk"
      },
      "outputs": [],
      "source": [
        "# Construire un DataFrame sim_j(nU1, nU2, sim) en appliquant la méthode withColumn au DataFrame couples_u\n",
        "# Garder uniquement les entrées où sim != 0\n",
        "sim_j =\n",
        "sim_j.persist()\n",
        "sim_j.count()\n",
        "sim_j.show(3)"
      ]
    },
    {
      "cell_type": "markdown",
      "metadata": {
        "id": "hm2LX22aOyYz"
      },
      "source": [
        "Résultat:\n",
        "```\n",
        "# +---+---+------------+\n",
        "|nU1|nU2|         sim|\n",
        "+---+---+------------+\n",
        "| 12| 13|0.0088495575|\n",
        "| 12| 14|      0.0125|\n",
        "| 12| 18| 0.018181818|\n",
        "```\n",
        "\n"
      ]
    },
    {
      "cell_type": "markdown",
      "metadata": {
        "id": "Z6Qlci-dnAfk"
      },
      "source": [
        "### 2. **Calcul de scores de recommandation pour les films non notés**"
      ]
    },
    {
      "cell_type": "markdown",
      "metadata": {
        "id": "JpPHssLynAfl"
      },
      "source": [
        "- Préparation du calcul: éliminer les infomations concernant la date"
      ]
    },
    {
      "cell_type": "code",
      "execution_count": null,
      "metadata": {
        "id": "0oyiSQ2NnAfl"
      },
      "outputs": [],
      "source": [
        "u_vu_notes=\n",
        "u_vu_notes.count()\n",
        "u_vu_notes.show(3)\n"
      ]
    },
    {
      "cell_type": "markdown",
      "metadata": {
        "id": "f0GUYdY4PQCL"
      },
      "source": [
        "Résultat:\n",
        "```\n",
        "# +---+----+----+\n",
        "| nU|  nF|note|\n",
        "+---+----+----+\n",
        "|  1|  31| 2.5|\n",
        "|  1|1029| 3.0|\n",
        "|  1|1061| 3.0|\n",
        "+---+----+----+\n",
        "```\n",
        "\n"
      ]
    },
    {
      "cell_type": "markdown",
      "metadata": {
        "id": "pzMAVOOQnAfl"
      },
      "source": [
        "- Étape 1: Construire tous les couples possibles (nU, nF) et enlever les couples qui se trouvent dans u_vu_notes. Stocker le résultat dans le DataFrame uf_pas_vu(nU, nF) qui sera gardé en mémoire"
      ]
    },
    {
      "cell_type": "code",
      "execution_count": null,
      "metadata": {
        "id": "7YVdAz9tnAfl"
      },
      "outputs": [],
      "source": [
        "....\n",
        "u_pas_vu.show(3)"
      ]
    },
    {
      "cell_type": "markdown",
      "metadata": {
        "id": "X4E9cRx-QGMM"
      },
      "source": [
        "Résultat:\n",
        "\n",
        "\n",
        "```\n",
        "# +---+---+\n",
        "| nU| nF|\n",
        "+---+---+\n",
        "|  1|240|\n",
        "|  1|314|\n",
        "|  1|420|\n",
        "+---+---+\n",
        "```\n",
        "\n"
      ]
    },
    {
      "cell_type": "markdown",
      "metadata": {
        "id": "thC9fcZpnAfl"
      },
      "source": [
        "- Etape 2: calculer un DF u_sim_notes qui contient des quintuples (nU1,nU2,nF,note,sim)"
      ]
    },
    {
      "cell_type": "code",
      "execution_count": null,
      "metadata": {
        "id": "bbuVBM9unAfl"
      },
      "outputs": [],
      "source": [
        "...\n",
        "u_sim_notes.show(2)\n",
        "u_sim_notes.count()"
      ]
    },
    {
      "cell_type": "markdown",
      "metadata": {
        "id": "0yMTigJzQU_c"
      },
      "source": [
        "Résultat:\n",
        "\n",
        "\n",
        "```\n",
        "# +---+---+---+----+------------+\n",
        "|nU1|nU2| nF|note|         sim|\n",
        "+---+---+---+----+------------+\n",
        "| 13| 12|253| 3.0|0.0088495575|\n",
        "| 14| 12|253| 3.0|      0.0125|\n",
        "+---+---+---+----+------------+\n",
        "64389904\n",
        "```\n",
        "\n"
      ]
    },
    {
      "cell_type": "markdown",
      "metadata": {
        "id": "mjWq4t8rnAfl"
      },
      "source": [
        "- Etape 3 : créer un DF u_recom qui étend u_sim_notes avec une colonne recom qui contient le produit sim*note"
      ]
    },
    {
      "cell_type": "code",
      "execution_count": null,
      "metadata": {
        "id": "Jcy2NNnBnAfl"
      },
      "outputs": [],
      "source": [
        "...\n",
        "u_recom.show(2)"
      ]
    },
    {
      "cell_type": "markdown",
      "metadata": {
        "id": "Hplae8TtQl9x"
      },
      "source": [
        "Résultat:\n",
        "```\n",
        "# +---+---+---+----+------------+-----------+\n",
        "|nU1|nU2| nF|note|         sim|      recom|\n",
        "+---+---+---+----+------------+-----------+\n",
        "| 13| 12|253| 3.0|0.0088495575|0.026548672|\n",
        "| 14| 12|253| 3.0|      0.0125|     0.0375|\n",
        "+---+---+---+----+------------+-----------+\n",
        "```\n",
        "\n"
      ]
    },
    {
      "cell_type": "markdown",
      "metadata": {
        "id": "53ekOzSxnAfl"
      },
      "source": [
        "- Etape 4: créer un DF u_recom2 qui contient les colonnes nU1, nF et avg_rec de avg_rec est la moyennes des scores de recommandation pour nU1 et nF. Afficher le résultat."
      ]
    },
    {
      "cell_type": "code",
      "execution_count": null,
      "metadata": {
        "id": "O-L7DunZnAfm"
      },
      "outputs": [],
      "source": [
        "...\n",
        "u_recom2.show(2)\n",
        "u_recom2.count()"
      ]
    },
    {
      "cell_type": "markdown",
      "metadata": {
        "id": "mJVe7t-nQx8r"
      },
      "source": [
        "Résultat:\n",
        "\n",
        "```\n",
        "# +---+---+-----------+\n",
        "|nU1| nF|      recom|\n",
        "+---+---+-----------+\n",
        "| 13|253|0.026548672|\n",
        "| 14|253|     0.0375|\n",
        "+---+---+-----------+\n",
        "6019322\n",
        "```\n",
        "\n"
      ]
    },
    {
      "cell_type": "markdown",
      "metadata": {
        "id": "UHxCrgZgnAfm"
      },
      "source": [
        "- Etape 5: créer un DF u_pas_vu_rec qui contient que les recommandations pour des films pas vus"
      ]
    },
    {
      "cell_type": "code",
      "execution_count": null,
      "metadata": {
        "id": "rbLwPGJHnAfm"
      },
      "outputs": [],
      "source": []
    },
    {
      "cell_type": "markdown",
      "metadata": {
        "id": "1Cjs3nIgREwO"
      },
      "source": [
        "Résultat:\n",
        "```\n",
        "# +---+----+------------------+\n",
        "| nU|  nF|           avg_rec|\n",
        "+---+----+------------------+\n",
        "|514| 966| 1.696969747543335|\n",
        "|562|5828|1.6906474828720093|\n",
        "|461|8504|1.6904267072677612|\n",
        "| 86| 764|1.6736401319503784|\n",
        "|355|5828|  1.66304349899292|\n",
        "+---+----+------------------+\n",
        "only showing top 5 rows\n",
        "```\n",
        "\n"
      ]
    }
  ],
  "metadata": {
    "application/vnd.databricks.v1+notebook": {
      "dashboards": [],
      "language": "python",
      "notebookMetadata": {
        "pythonIndentUnit": 2
      },
      "notebookName": "DU MLIA Module 6 TP Jour 1",
      "notebookOrigID": 3659320577673566,
      "widgets": {}
    },
    "colab": {
      "provenance": []
    },
    "kernelspec": {
      "display_name": "Python 3",
      "language": "python",
      "name": "python3"
    },
    "language_info": {
      "codemirror_mode": {
        "name": "ipython",
        "version": 3
      },
      "file_extension": ".py",
      "mimetype": "text/x-python",
      "name": "python",
      "nbconvert_exporter": "python",
      "pygments_lexer": "ipython3",
      "version": "3.7.1"
    }
  },
  "nbformat": 4,
  "nbformat_minor": 0
}