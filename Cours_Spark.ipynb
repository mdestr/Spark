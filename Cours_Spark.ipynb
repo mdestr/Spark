{
  "nbformat": 4,
  "nbformat_minor": 0,
  "metadata": {
    "colab": {
      "provenance": [],
      "authorship_tag": "ABX9TyNVlvzXQwlN/depJkvTRQ+i"
    },
    "kernelspec": {
      "name": "python3",
      "display_name": "Python 3"
    },
    "language_info": {
      "name": "python"
    }
  },
  "cells": [
    {
      "cell_type": "code",
      "execution_count": 5,
      "metadata": {
        "colab": {
          "base_uri": "https://localhost:8080/"
        },
        "id": "XNhkPO7sblc5",
        "outputId": "20584bd4-c87d-460c-8915-266f2db815a6"
      },
      "outputs": [
        {
          "output_type": "execute_result",
          "data": {
            "text/plain": [
              "2"
            ]
          },
          "metadata": {},
          "execution_count": 5
        }
      ],
      "source": [
        "import pyspark # only run after findspark.init()\n",
        "from pyspark.sql import SparkSession\n",
        "from pyspark import Row\n",
        "spark = SparkSession.builder.master(\"local[4]\").appName(\"SQL_sess\").getOrCreate()\n",
        "\n",
        "row1 = Row(name='Alice', age=21)\n",
        "row2 = Row(name='Bob', age=22)\n",
        "df=spark.createDataFrame([row1,row2])\n",
        "df.show()\n",
        "\n",
        "df.collect()\n",
        "df.count()\n",
        "\n"
      ]
    },
    {
      "cell_type": "code",
      "source": [
        "import os\n",
        "from google.colab import drive\n",
        "from pyspark.sql.functions import *\n",
        "\n",
        "\n",
        "drive.mount(\"/content/drive\", force_remount=True)\n",
        "\n",
        "drive_dir = \"/content/drive/MyDrive/ColabNotebooks/\"\n",
        "os.makedirs(drive_dir, exist_ok=True)\n",
        "os.listdir(drive_dir)\n",
        "\n",
        "# Liste les fichiers dans /content\n",
        "print(\"Contenu de /content :\", os.listdir('/content'))\n",
        "# Si vous avez monté Google Drive :\n",
        "print(\"Contenu de Google Drive :\", os.listdir('/content/drive/MyDrive'))\n",
        "\n",
        "films = spark.read.json(\"/content/drive/MyDrive/ColabNotebooks/films.json\")\n",
        "films.show(30)\n",
        "films.count()\n",
        "\n",
        "films.printSchema()\n",
        "\n",
        "# projection\n",
        "films.select(films.titre).show(1)\n",
        "films.select(films['titre']).show(1)\n",
        "films.select('titre').show(1)\n",
        "\n",
        "# projection / selection\n",
        "films.select(films['titre']) \\\n",
        ".where(films['nF']==1).show()\n",
        "\n",
        "films.select(films.nF, films.titre, films.g).orderBy('titre').show(3,0)\n",
        "\n",
        "films.select(films.titre.alias('t')).show(3,0)\n",
        "\n",
        "films.withColumnRenamed('titre','t').show(3)\n",
        "\n",
        "\n",
        "films.select(films.titre,films.g).show(4)\n",
        "\n",
        "# exploide\n",
        "fgenres=films.select(films.nF,\n",
        "                     explode(films.g).alias('genre')).orderBy('nF').show(4)\n",
        "\n",
        "# jointure\n",
        "genres=films.select(films.nF,explode(films.g).alias('genre'))\n",
        "genres.show(2)\n",
        "\n",
        "films_sg=films.select(films.nF,films.titre)\n",
        "films_sg.show(2)\n",
        "\n",
        "films2 = films_sg.join(genres,films.nF==genres.nF)\n",
        "films2.show(2)\n",
        "\n",
        "# produit cartésien\n",
        "films2 = films_sg.withColumnRenamed('nF', 'nF1').crossJoin(genres)\n",
        "films2.show(2)\n",
        "films2.count()\n",
        "\n",
        "# aggrégations / group by\n",
        "films_max=genres.groupBy('genre').max('nF').show(2)\n",
        "\n",
        "films_cpt=genres.groupBy('genre') \\\n",
        ".agg(count('nF'),countDistinct('nF'))\n",
        "\n",
        "films_cpt.show(2)\n",
        "\n",
        "\n",
        "schema = \"\"\"\n",
        "          nU INT,\n",
        "          nF LONG,\n",
        "          note FLOAT,\n",
        "          annee INT,\n",
        "          mois INT,\n",
        "          jour INT\n",
        "        \"\"\"\n",
        "notes = spark.read.csv(\"/content/drive/MyDrive/ColabNotebooks/notesAMJ.csv\", header='true', schema=schema)\n",
        "notes.printSchema()\n",
        "notes=notes.persist()\n",
        "notes.count() #résultat: 100004\n",
        "\n",
        "notes_films = notes.select(notes.nF.alias('nF2'), notes.note)\n",
        "films_notes = films.join(notes_films, films.nF==notes_films.nF2)\n",
        "films_notes.printSchema()\n",
        "\n",
        "\n",
        "# collect_list\n",
        "films_notes.groupBy('nF')\\\n",
        ".agg(collect_list('note')\n",
        ".alias('notes'))\n",
        "films_notes.show(2)\n",
        "\n",
        "fn=films_notes.groupBy('nF')\\\n",
        ".agg(collect_list('note')\n",
        ".alias('notes'))\n",
        "fn.show(2)\n",
        "\n",
        "# Functions\n",
        "films.select(lower(films.titre)).show(3)\n",
        "films.select(max(films.nF)).show(1)\n",
        "\n",
        "films.select(films.titre).show(1,0)\n",
        "films.select(split(films.titre,'[()]+')[0].alias('titre'),\n",
        "             split(films.titre,'[()]+')[1].alias('annee')).show(1,0)\n",
        "\n",
        "f2=films.withColumn('nbgenres',size(films.g))\n",
        "f2.show(2)\n",
        "f2.filter(f2.nbgenres>2).show(2)\n",
        "\n",
        "# User-defined functions\n",
        "@udf('float') # float: type du résultat\n",
        "def mamoy(l):\n",
        "  sum=0\n",
        "  len=0\n",
        "  for x in l:\n",
        "    sum=sum+x\n",
        "    len=len+1\n",
        "  return sum/len\n",
        "\n",
        "fn.show(20)\n",
        "fn2=fn.withColumn('avg',mamoy(fn.notes))\n",
        "fn2.show(2)\n",
        "\n",
        "# Conversions\n",
        "rdd=films.rdd\n",
        "rdd.map(lambda x: x[\"g\"]).take(5)\n",
        "rdd.flatMap(lambda x: x[\"g\"]).distinct().take(5)\n",
        "rdd.toDF().select(\"titre\").take(3)\n",
        "\n"
      ],
      "metadata": {
        "colab": {
          "base_uri": "https://localhost:8080/"
        },
        "id": "XjBLwK-rlY-H",
        "outputId": "19677147-e040-45dc-ea80-2ab6d2fa25cd"
      },
      "execution_count": 112,
      "outputs": [
        {
          "output_type": "execute_result",
          "data": {
            "text/plain": [
              "[Row(titre='Prime of Miss Jean Brodie, The (1969)'),\n",
              " Row(titre='Lesson of the Evil (Aku no kyôten) (2012)'),\n",
              " Row(titre='Fox and the Hound, The (1981)')]"
            ]
          },
          "metadata": {},
          "execution_count": 112
        }
      ]
    },
    {
      "cell_type": "code",
      "source": [],
      "metadata": {
        "id": "DIVSxMiJc3Vw"
      },
      "execution_count": null,
      "outputs": []
    }
  ]
}