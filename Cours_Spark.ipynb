{
  "nbformat": 4,
  "nbformat_minor": 0,
  "metadata": {
    "colab": {
      "provenance": [],
      "authorship_tag": "ABX9TyMwpnT0Sp+8EZWT1SP3SHaI"
    },
    "kernelspec": {
      "name": "python3",
      "display_name": "Python 3"
    },
    "language_info": {
      "name": "python"
    }
  },
  "cells": [
    {
      "cell_type": "code",
      "execution_count": 2,
      "metadata": {
        "id": "XNhkPO7sblc5"
      },
      "outputs": [],
      "source": [
        "import pyspark # only run after findspark.init()\n",
        "from pyspark.sql import SparkSession\n",
        "from pyspark import Row\n",
        "spark = SparkSession.builder.master(\"local[4]\").appName(\"SQL_sess\").getOrCreate()\n",
        "\n"
      ]
    },
    {
      "cell_type": "code",
      "source": [],
      "metadata": {
        "id": "DIVSxMiJc3Vw"
      },
      "execution_count": null,
      "outputs": []
    }
  ]
}